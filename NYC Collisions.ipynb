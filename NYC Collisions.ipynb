{
 "cells": [
  {
   "cell_type": "markdown",
   "id": "2746b4ca-403d-4476-9d0f-9fb9ee7885b1",
   "metadata": {},
   "source": [
    "# NYC Motor Vehicle Collisions — Time of Day Analysis (Preliminary Project Update)\n",
    "\n",
    "**Authors:**\n",
    "Adan Valadez\n",
    "Liam O'Herlihy\n",
    "Tasneem Khokha\n",
    "\n",
    "**Goal:** Investigate whether *time of day* correlates with crash frequency and severity in NYC.\n",
    "This analysis-focused notebook includes:\n",
    "- dataset acquisition (NYC Open Data)\n",
    "- clear problem statement and target measures\n",
    "- feature selection (temporal & contextual features)\n",
    "- preprocessing and cleaning steps\n",
    "- exploratory data analysis and visualizations focused on time-of-day patterns\n",
    "- preliminary aggregation and statistical checks "
   ]
  },
  {
   "cell_type": "code",
   "execution_count": 2,
   "id": "7dcd3cd1-9d0d-48d9-b392-2bc834b07542",
   "metadata": {},
   "outputs": [
    {
     "name": "stdout",
     "output_type": "stream",
     "text": [
      "Notebook ready. SAMPLE_LIMIT = 50000\n"
     ]
    }
   ],
   "source": [
    "# Cell 1 — Setup: imports and download parameters\n",
    "import pandas as pd\n",
    "import numpy as np\n",
    "import matplotlib.pyplot as plt\n",
    "import seaborn as sns\n",
    "from IPython.display import display\n",
    "\n",
    "sns.set(style='whitegrid')\n",
    "\n",
    "SAMPLE_LIMIT = 50000  # set to None to show full dataset\n",
    "DATA_URL = \"https://data.cityofnewyork.us/resource/h9gi-nx95.csv\"\n",
    "\n",
    "print('Notebook ready. SAMPLE_LIMIT =', SAMPLE_LIMIT)"
   ]
  },
  {
   "cell_type": "markdown",
   "id": "6c1ea4c2-2f41-48d5-b148-d913cd5a4dd1",
   "metadata": {},
   "source": [
    "## Problem statement\n",
    "\n",
    "We will analyze whether **time of day** correlates with the **frequency** and **severity** of motor vehicle collisions in NYC.  \n",
    "Specifically:\n",
    "\n",
    "- Primary question (descriptive / inferential): *How does crash frequency vary by hour of the day and day of the week?*  \n",
    "- Secondary question (severity): *Do crashes occurring at certain hours have higher injury or fatality rates?*  \n",
    "\n",
    "**Target measures used in this analysis:**\n",
    "\n",
    "- Crash **count** aggregated by hour / weekday (main descriptive target)\n",
    "- Injury rate (mean number of persons injured per crash) by hour\n",
    "- Fatality rate (proportion of crashes with >=1 person killed) by hour"
   ]
  },
  {
   "cell_type": "code",
   "execution_count": 4,
   "id": "3ea3e526-fbc8-43e2-b837-1f1ef509fcd4",
   "metadata": {},
   "outputs": [],
   "source": [
    "# Cell 2 — Download / Load the data \n"
   ]
  },
  {
   "cell_type": "code",
   "execution_count": 6,
   "id": "7291c9e5-2e29-4480-b91e-90c217e208fe",
   "metadata": {},
   "outputs": [],
   "source": [
    "# Cell 3 -  Preprocessing & feature engineering (temporal focus)"
   ]
  },
  {
   "cell_type": "code",
   "execution_count": 7,
   "id": "72649b5d-f8b9-4b50-a6da-d5066d6d52fb",
   "metadata": {},
   "outputs": [],
   "source": [
    "# Cell 4 Exploratory plots: crash frequency by hour and day of week"
   ]
  },
  {
   "cell_type": "code",
   "execution_count": null,
   "id": "58ae8eaf-4f72-40b6-af4d-6b171e70c446",
   "metadata": {},
   "outputs": [],
   "source": [
    "# Cell 5 — Injury and fatality rates by hour"
   ]
  },
  {
   "cell_type": "code",
   "execution_count": null,
   "id": "db6fa211-381e-4c9e-960e-ebeaee42abae",
   "metadata": {},
   "outputs": [],
   "source": [
    "# Cell 6 — Simple statistical check: are late-night hours riskier?"
   ]
  }
 ],
 "metadata": {
  "kernelspec": {
   "display_name": "Python [conda env:base] *",
   "language": "python",
   "name": "conda-base-py"
  },
  "language_info": {
   "codemirror_mode": {
    "name": "ipython",
    "version": 3
   },
   "file_extension": ".py",
   "mimetype": "text/x-python",
   "name": "python",
   "nbconvert_exporter": "python",
   "pygments_lexer": "ipython3",
   "version": "3.13.5"
  }
 },
 "nbformat": 4,
 "nbformat_minor": 5
}
